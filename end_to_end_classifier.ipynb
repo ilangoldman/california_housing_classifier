{
 "cells": [
  {
   "cell_type": "code",
   "execution_count": 43,
   "metadata": {},
   "outputs": [],
   "source": [
    "import pandas as pd;\n",
    "import numpy as np;"
   ]
  },
  {
   "cell_type": "code",
   "execution_count": 44,
   "metadata": {},
   "outputs": [],
   "source": [
    "df = pd.read_csv(\"precos_casa_california.csv\")"
   ]
  },
  {
   "cell_type": "code",
   "execution_count": 45,
   "metadata": {},
   "outputs": [],
   "source": [
    "y = df[df.columns[-1]]\n",
    "#y.unique()\n",
    "c = {s : i for i,s in enumerate(y.unique()) if s != ' '}\n",
    "df = df.replace( c )"
   ]
  },
  {
   "cell_type": "code",
   "execution_count": 46,
   "metadata": {},
   "outputs": [],
   "source": [
    "#df.dtypes\n",
    "df = df.apply(pd.to_numeric, errors='coerce')\n",
    "#df.dtypes\n",
    "df = df.dropna(axis=\"rows\")"
   ]
  },
  {
   "cell_type": "code",
   "execution_count": 47,
   "metadata": {},
   "outputs": [
    {
     "name": "stdout",
     "output_type": "stream",
     "text": [
      "<class 'pandas.core.frame.DataFrame'>\n",
      "Int64Index: 20214 entries, 0 to 20444\n",
      "Data columns (total 10 columns):\n",
      "longitude             20214 non-null float64\n",
      "latitude              20214 non-null float64\n",
      "housing_median_age    20214 non-null float64\n",
      "total_rooms           20214 non-null float64\n",
      "total_bedrooms        20214 non-null float64\n",
      "population            20214 non-null float64\n",
      "households            20214 non-null float64\n",
      "median_income         20214 non-null float64\n",
      "median_house_value    20214 non-null float64\n",
      "ocean_proximity       20214 non-null float64\n",
      "dtypes: float64(10)\n",
      "memory usage: 1.7 MB\n"
     ]
    }
   ],
   "source": [
    "df.info()"
   ]
  },
  {
   "cell_type": "code",
   "execution_count": 50,
   "metadata": {},
   "outputs": [],
   "source": [
    "# remove outliers\n",
    "for i in df.columns:\n",
    "    df = df.loc[df[i] < df[i].quantile(0.95)]"
   ]
  },
  {
   "cell_type": "code",
   "execution_count": 52,
   "metadata": {},
   "outputs": [],
   "source": [
    "features = list(df.columns[2:-2])\n",
    "features.append(df.columns[-1])\n",
    "#features\n",
    "x = df[features]\n",
    "#x\n",
    "y = df[df.columns[-2]]\n",
    "#y"
   ]
  },
  {
   "cell_type": "code",
   "execution_count": 54,
   "metadata": {},
   "outputs": [],
   "source": [
    "#from sklearn.linear_model import LogisticRegression\n",
    "from sklearn.ensemble import GradientBoostingRegressor\n",
    "from sklearn.model_selection import cross_val_score, train_test_split"
   ]
  },
  {
   "cell_type": "code",
   "execution_count": 140,
   "metadata": {},
   "outputs": [],
   "source": [
    "# Gradient Boost\n",
    "X_train, X_test, Y_train, Y_test = train_test_split(x,y, test_size=0.3, random_state=7)\n",
    "classifier = GradientBoostingRegressor(loss='ls', max_depth=6)\n",
    "model = classifier.fit(X_train, Y_train)\n",
    "score = model.score(X_test,Y_test)"
   ]
  },
  {
   "cell_type": "code",
   "execution_count": 141,
   "metadata": {
    "scrolled": true
   },
   "outputs": [
    {
     "data": {
      "text/plain": [
       "0.6505258122762415"
      ]
     },
     "execution_count": 141,
     "metadata": {},
     "output_type": "execute_result"
    }
   ],
   "source": [
    "score"
   ]
  }
 ],
 "metadata": {
  "kernelspec": {
   "display_name": "Python 2",
   "language": "python",
   "name": "python2"
  },
  "language_info": {
   "codemirror_mode": {
    "name": "ipython",
    "version": 2
   },
   "file_extension": ".py",
   "mimetype": "text/x-python",
   "name": "python",
   "nbconvert_exporter": "python",
   "pygments_lexer": "ipython2",
   "version": "2.7.15"
  }
 },
 "nbformat": 4,
 "nbformat_minor": 2
}
